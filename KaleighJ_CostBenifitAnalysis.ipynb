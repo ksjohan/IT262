{
  "nbformat": 4,
  "nbformat_minor": 0,
  "metadata": {
    "colab": {
      "name": "KaleighJ-CostBenifitAnalysis.ipynb",
      "provenance": [],
      "collapsed_sections": [],
      "authorship_tag": "ABX9TyPLuawdjDcLveKuvziYBhjm",
      "include_colab_link": true
    },
    "kernelspec": {
      "name": "python3",
      "display_name": "Python 3"
    },
    "language_info": {
      "name": "python"
    }
  },
  "cells": [
    {
      "cell_type": "markdown",
      "metadata": {
        "id": "view-in-github",
        "colab_type": "text"
      },
      "source": [
        "<a href=\"https://colab.research.google.com/github/ksjohan/IT262/blob/main/KaleighJ_CostBenifitAnalysis.ipynb\" target=\"_parent\"><img src=\"https://colab.research.google.com/assets/colab-badge.svg\" alt=\"Open In Colab\"/></a>"
      ]
    },
    {
      "cell_type": "code",
      "execution_count": null,
      "metadata": {
        "id": "l0FJo-obskVx"
      },
      "outputs": [],
      "source": [
        "import pandas as pd\n",
        "import math\n",
        "\n",
        "dataT=pd.read_csv('/content/drive/MyDrive/262/262-SP22/262-CBA.csv')\n",
        "print (dataT)\n"
      ]
    },
    {
      "cell_type": "code",
      "source": [
        "discountRate=0.05\n",
        "dicountFactor=[0,0,0,0]\n",
        "for year in dataT['years']:\n",
        "  discountFactor[year]=1/math.pow((1+discountRate),year)\n",
        "\n",
        "dataT['discountFactor']=[round(num,2)for num in discountFactor]\n",
        "print (dataT) "
      ],
      "metadata": {
        "id": "Jle59_FaULq2"
      },
      "execution_count": null,
      "outputs": []
    },
    {
      "cell_type": "code",
      "source": [
        "NetBC=[0,0,0,0]\n",
        "for year in dataT['years']:\n",
        "  NetBC[year]=dataT['developmentCost'][year]+datat['valueOfBenefits'][year]\n",
        "\n",
        "  dataT['NetBC']=NetBC\n",
        "  print (dataT)\n",
        "\n"
      ],
      "metadata": {
        "id": "_fjBq-Y0UvuO"
      },
      "execution_count": null,
      "outputs": []
    },
    {
      "cell_type": "code",
      "source": [
        "NPV=[0,0,0,0]\n",
        "\n",
        "for year in dataT['years']:\n",
        "  NVP[year]=dataT['NetBC'][year]*dataT['discountFactor'][year]\n",
        "\n",
        "\n",
        "dataT['NVP']=[round(num,2)for num in NPV]\n",
        "print (dataT)"
      ],
      "metadata": {
        "id": "fDMK9nQbeeUD"
      },
      "execution_count": null,
      "outputs": []
    }
  ]
}