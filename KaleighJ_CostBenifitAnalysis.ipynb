{
  "nbformat": 4,
  "nbformat_minor": 0,
  "metadata": {
    "colab": {
      "name": "KaleighJ-CostBenifitAnalysis.ipynb",
      "provenance": [],
      "collapsed_sections": [],
      "toc_visible": true,
      "mount_file_id": "1UxypH24Svl3t7ec6Oz-gZWbbPenl4oIc",
      "authorship_tag": "ABX9TyNgfeRi3BZs6KXadjNtRvAO",
      "include_colab_link": true
    },
    "kernelspec": {
      "name": "python3",
      "display_name": "Python 3"
    },
    "language_info": {
      "name": "python"
    }
  },
  "cells": [
    {
      "cell_type": "markdown",
      "metadata": {
        "id": "view-in-github",
        "colab_type": "text"
      },
      "source": [
        "<a href=\"https://colab.research.google.com/github/ksjohan/IT262/blob/main/KaleighJ_CostBenifitAnalysis.ipynb\" target=\"_parent\"><img src=\"https://colab.research.google.com/assets/colab-badge.svg\" alt=\"Open In Colab\"/></a>"
      ]
    },
    {
      "cell_type": "code",
      "execution_count": 3,
      "metadata": {
        "id": "l0FJo-obskVx",
        "colab": {
          "base_uri": "https://localhost:8080/"
        },
        "outputId": "bd19c512-76db-48cc-e6b0-fb5c3129f484"
      },
      "outputs": [
        {
          "output_type": "stream",
          "name": "stdout",
          "text": [
            "   years  developmentCost  operationalCost  valueOfBenefits\n",
            "0      0             -100                0                0\n",
            "1      1              -30              -10               25\n",
            "2      2                0              -15               55\n",
            "3      3                0              -15               85\n"
          ]
        }
      ],
      "source": [
        "import pandas as pd\n",
        "import math\n",
        "\n",
        "dataT=pd.read_csv('/content/drive/MyDrive/262-CBA.csv')\n",
        "print (dataT)\n"
      ]
    },
    {
      "cell_type": "code",
      "source": [
        "discountRate=0.05\n",
        "discountFactor=[0,0,0,0]\n",
        "for year in dataT['years']:\n",
        "  discountFactor[year]=1/math.pow(1+discountRate,year)\n",
        "\n",
        "dataT['discountFactor']=[round(num,2)for num in discountFactor]\n",
        "print (dataT) "
      ],
      "metadata": {
        "id": "Jle59_FaULq2",
        "colab": {
          "base_uri": "https://localhost:8080/"
        },
        "outputId": "c7430acf-798f-4ef0-8776-e6df66cc9803"
      },
      "execution_count": 8,
      "outputs": [
        {
          "output_type": "stream",
          "name": "stdout",
          "text": [
            "   years  developmentCost  operationalCost  valueOfBenefits  discountFactor\n",
            "0      0             -100                0                0            1.00\n",
            "1      1              -30              -10               25            0.95\n",
            "2      2                0              -15               55            0.91\n",
            "3      3                0              -15               85            0.86\n"
          ]
        }
      ]
    },
    {
      "cell_type": "code",
      "source": [
        "NetBC=[0,0,0,0]\n",
        "for year in dataT['years']:\n",
        "  NetBC[year]=dataT['developmentCost'][year]+dataT['valueOfBenefits'][year]\n",
        "\n",
        "dataT['NetBC']=NetBC\n",
        "print (dataT)\n",
        "\n"
      ],
      "metadata": {
        "id": "_fjBq-Y0UvuO",
        "colab": {
          "base_uri": "https://localhost:8080/"
        },
        "outputId": "b74c9ee5-21c5-4924-de3b-3523ab59acec"
      },
      "execution_count": 13,
      "outputs": [
        {
          "output_type": "stream",
          "name": "stdout",
          "text": [
            "   years  developmentCost  ...  discountFactor  NetBC\n",
            "0      0             -100  ...            1.00   -100\n",
            "1      1              -30  ...            0.95     -5\n",
            "2      2                0  ...            0.91     55\n",
            "3      3                0  ...            0.86     85\n",
            "\n",
            "[4 rows x 6 columns]\n"
          ]
        }
      ]
    },
    {
      "cell_type": "code",
      "source": [
        "NPV=[0,0,0,0]\n",
        "\n",
        "for year in dataT['years']:\n",
        "  NPV[year]=dataT['NetBC'][year]*dataT['discountFactor'][year]\n",
        "\n",
        "dataT['N']=[round(num,2)for num in NPV]\n",
        "print (dataT)"
      ],
      "metadata": {
        "id": "fDMK9nQbeeUD",
        "colab": {
          "base_uri": "https://localhost:8080/"
        },
        "outputId": "2924f76a-233a-4cb8-acd8-efeb861ac6b6"
      },
      "execution_count": 15,
      "outputs": [
        {
          "output_type": "stream",
          "name": "stdout",
          "text": [
            "   years  developmentCost  operationalCost  ...  NetBC     NVP       N\n",
            "0      0             -100                0  ...   -100 -100.00 -100.00\n",
            "1      1              -30              -10  ...     -5   -4.75   -4.75\n",
            "2      2                0              -15  ...     55   50.05   50.05\n",
            "3      3                0              -15  ...     85   73.10   73.10\n",
            "\n",
            "[4 rows x 8 columns]\n"
          ]
        }
      ]
    }
  ]
}