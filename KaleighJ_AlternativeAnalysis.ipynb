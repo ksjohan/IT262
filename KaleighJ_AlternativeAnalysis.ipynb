{
  "nbformat": 4,
  "nbformat_minor": 0,
  "metadata": {
    "colab": {
      "name": "KaleighJ-AlternativeAnalysis.ipynb",
      "provenance": [],
      "collapsed_sections": [],
      "authorship_tag": "ABX9TyPwINfm6wXxCKZIJG+7rTC6",
      "include_colab_link": true
    },
    "kernelspec": {
      "name": "python3",
      "display_name": "Python 3"
    },
    "language_info": {
      "name": "python"
    }
  },
  "cells": [
    {
      "cell_type": "markdown",
      "metadata": {
        "id": "view-in-github",
        "colab_type": "text"
      },
      "source": [
        "<a href=\"https://colab.research.google.com/github/ksjohan/IT262/blob/main/KaleighJ_AlternativeAnalysis.ipynb\" target=\"_parent\"><img src=\"https://colab.research.google.com/assets/colab-badge.svg\" alt=\"Open In Colab\"/></a>"
      ]
    },
    {
      "cell_type": "code",
      "execution_count": null,
      "metadata": {
        "colab": {
          "base_uri": "https://localhost:8080/"
        },
        "id": "a3xc8qr2slUQ",
        "outputId": "150ba534-4996-4197-d2f1-0e3a19730e0b"
      },
      "outputs": [
        {
          "output_type": "stream",
          "name": "stdout",
          "text": [
            "Empty DataFrame\n",
            "Columns: [criteria, weight, ratingA, ratingB, scoreA, scoreB]\n",
            "Index: []\n"
          ]
        }
      ],
      "source": [
        "import pandas as pd \n",
        "import math \n",
        "\n",
        "AA=pd.DataFrame(columns=['criteria', 'weight', 'ratingA', 'ratingB', 'scoreA', 'scoreB' ])\n",
        "print(AA)\n"
      ]
    },
    {
      "cell_type": "code",
      "source": [
        "AA['criteria']=['risk', 'ROI', 'customerSatisfaction', 'feasibility', 'strategicAlignment']\n",
        "print(AA)"
      ],
      "metadata": {
        "colab": {
          "base_uri": "https://localhost:8080/"
        },
        "id": "goKWaJ5ZyUI1",
        "outputId": "ca4fb02e-1ca8-4a3d-8332-e9051a019951"
      },
      "execution_count": null,
      "outputs": [
        {
          "output_type": "stream",
          "name": "stdout",
          "text": [
            "               criteria weight ratingA ratingB scoreA scoreB\n",
            "0                  risk    NaN     NaN     NaN    NaN    NaN\n",
            "1                   ROI    NaN     NaN     NaN    NaN    NaN\n",
            "2  customerSatisfaction    NaN     NaN     NaN    NaN    NaN\n",
            "3           feasibility    NaN     NaN     NaN    NaN    NaN\n",
            "4    strategicAlignment    NaN     NaN     NaN    NaN    NaN\n"
          ]
        }
      ]
    },
    {
      "cell_type": "code",
      "source": [
        "AA['weight']=[0.1,0.15,0.3,.15,.3]\n",
        "print(AA)"
      ],
      "metadata": {
        "colab": {
          "base_uri": "https://localhost:8080/"
        },
        "id": "6_kwZh4CzekO",
        "outputId": "acc5a41c-f62b-4a7e-989b-7817b938f1c5"
      },
      "execution_count": null,
      "outputs": [
        {
          "output_type": "stream",
          "name": "stdout",
          "text": [
            "               criteria  weight ratingA ratingB scoreA scoreB\n",
            "0                  risk    0.10     NaN     NaN    NaN    NaN\n",
            "1                   ROI    0.15     NaN     NaN    NaN    NaN\n",
            "2  customerSatisfaction    0.30     NaN     NaN    NaN    NaN\n",
            "3           feasibility    0.15     NaN     NaN    NaN    NaN\n",
            "4    strategicAlignment    0.30     NaN     NaN    NaN    NaN\n"
          ]
        }
      ]
    },
    {
      "cell_type": "code",
      "source": [
        "AA['ratingA']=[4,1,2,1,5]\n",
        "AA['ratingB']=[3,4,2,3,2]\n",
        "\n",
        "for index, row in AA.iterrows():\n",
        "  AA['scoreA'][index]=row['ratingA']*row['weight']\n",
        "  AA['scoreB'][index]=row['ratingB']*row['weight']\n",
        "\n",
        "\n",
        "\n",
        "print(AA)"
      ],
      "metadata": {
        "colab": {
          "base_uri": "https://localhost:8080/"
        },
        "id": "rL26xivuzpUy",
        "outputId": "2b1c2683-73be-4f24-a9e3-495fc0c49dc4"
      },
      "execution_count": null,
      "outputs": [
        {
          "output_type": "stream",
          "name": "stdout",
          "text": [
            "               criteria  weight  ratingA  ratingB scoreA scoreB\n",
            "0                  risk    0.10        4        3    0.4    0.3\n",
            "1                   ROI    0.15        1        4   0.15    0.6\n",
            "2  customerSatisfaction    0.30        2        2    0.6    0.6\n",
            "3           feasibility    0.15        1        3   0.15   0.45\n",
            "4    strategicAlignment    0.30        5        2    1.5    0.6\n"
          ]
        },
        {
          "output_type": "stream",
          "name": "stderr",
          "text": [
            "/usr/local/lib/python3.7/dist-packages/ipykernel_launcher.py:5: SettingWithCopyWarning: \n",
            "A value is trying to be set on a copy of a slice from a DataFrame\n",
            "\n",
            "See the caveats in the documentation: https://pandas.pydata.org/pandas-docs/stable/user_guide/indexing.html#returning-a-view-versus-a-copy\n",
            "  \"\"\"\n",
            "/usr/local/lib/python3.7/dist-packages/ipykernel_launcher.py:6: SettingWithCopyWarning: \n",
            "A value is trying to be set on a copy of a slice from a DataFrame\n",
            "\n",
            "See the caveats in the documentation: https://pandas.pydata.org/pandas-docs/stable/user_guide/indexing.html#returning-a-view-versus-a-copy\n",
            "  \n"
          ]
        }
      ]
    },
    {
      "cell_type": "code",
      "source": [
        "totalScoreA=0\n",
        "totalScoreB=0\n",
        "for index, row in AA.iterrows():\n",
        "  totalScoreA+=row['scoreA']\n",
        "  totalScoreB+=row['scoreB']\n",
        "\n",
        "print('the total score for A is {:.2f} and for B is {:.2f}'.format(totalScoreA, totalScoreB))"
      ],
      "metadata": {
        "colab": {
          "base_uri": "https://localhost:8080/"
        },
        "id": "Fs1srvDi0drT",
        "outputId": "763a513b-345b-4cee-bb08-93fe2961e02f"
      },
      "execution_count": null,
      "outputs": [
        {
          "output_type": "stream",
          "name": "stdout",
          "text": [
            "the total score for A is 2.80 and for B is 2.55\n"
          ]
        }
      ]
    }
  ]
}